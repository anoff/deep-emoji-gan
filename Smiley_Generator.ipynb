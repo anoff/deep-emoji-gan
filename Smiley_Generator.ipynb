{
 "cells": [
  {
   "cell_type": "markdown",
   "metadata": {
    "collapsed": true,
    "deletable": true,
    "editable": true
   },
   "source": [
    "# Generate yellow smiley faces 🙂"
   ]
  },
  {
   "cell_type": "markdown",
   "metadata": {
    "deletable": true,
    "editable": true
   },
   "source": [
    "## load dependencies\n",
    "* matplotlib for plotting\n",
    "* numpy for array handling\n",
    "* json for loading emoji description\n",
    "* misc and glob for reading PNG\n",
    "* tensorflow for GAN"
   ]
  },
  {
   "cell_type": "code",
   "execution_count": 54,
   "metadata": {
    "collapsed": false,
    "deletable": true,
    "editable": true
   },
   "outputs": [],
   "source": [
    "%matplotlib inline\n",
    "\n",
    "import pickle as pkl\n",
    "\n",
    "import matplotlib.pyplot as plt\n",
    "import matplotlib.image as mpimg\n",
    "import numpy as np\n",
    "import tensorflow as tf\n",
    "import json\n",
    "import glob\n",
    "import random\n",
    "from pprint import pprint"
   ]
  },
  {
   "cell_type": "code",
   "execution_count": 22,
   "metadata": {
    "collapsed": false,
    "deletable": true,
    "editable": true
   },
   "outputs": [
    {
     "name": "stdout",
     "output_type": "stream",
     "text": [
      "'original dictionary:'\n",
      "{'grinning': {'aliases': [],\n",
      "              'aliases_ascii': [],\n",
      "              'category': 'people',\n",
      "              'code_decimal': '&#128512;',\n",
      "              'emoji_order': '1',\n",
      "              'keywords': ['happy', 'smiley', 'emotion'],\n",
      "              'name': 'grinning face',\n",
      "              'shortname': ':grinning:',\n",
      "              'unicode': '1f600',\n",
      "              'unicode_alt': ''}}\n",
      "'minimized dictionary: 225 left out of 1820 emojis'\n",
      "{'grin': {'ascii': [],\n",
      "          'keywords': ['happy', 'silly', 'smiley', 'emotion', 'good', 'selfie'],\n",
      "          'name': 'grinning face with smiling eyes',\n",
      "          'unicode': '1f601'},\n",
      " 'grinning': {'ascii': [],\n",
      "              'keywords': ['happy', 'smiley', 'emotion'],\n",
      "              'name': 'grinning face',\n",
      "              'unicode': '1f600'}}\n"
     ]
    }
   ],
   "source": [
    "# filter only person emojis without tones\n",
    "with open('emojione-2.2.7/emoji.json') as data_file:\n",
    "    emojis = json.load(data_file)\n",
    "\n",
    "smileys = {k: v for k, v in emojis.items() if v[\"category\"] == \"people\" and not \"_tone\" in k}\n",
    "pprint(\"original dictionary:\")\n",
    "pprint({key: smileys[key] for key in list(smileys.keys())[:1]})\n",
    "\n",
    "smileys = {k: {\"keywords\": v[\"keywords\"], \"unicode\": v[\"unicode\"], \"ascii\": v[\"aliases_ascii\"], \"name\": v[\"name\"]} for k,v in smileys.items()}\n",
    "pprint(\"minimized dictionary: {} left out of {} emojis\".format(len(smileys), len(emojis)))\n",
    "pprint({key: smileys[key] for key in list(smileys.keys())[:2]})"
   ]
  },
  {
   "cell_type": "code",
   "execution_count": 50,
   "metadata": {
    "collapsed": false,
    "deletable": true,
    "editable": true
   },
   "outputs": [],
   "source": [
    "image_paths = glob.glob(\"./emojione-2.2.7/assets/png/*.png\")\n",
    "#pprint(image_paths[:10])\n",
    "filtered_files = [v[\"unicode\"] for k,v in smileys.items()]\n",
    "filtered_files = [next(filter(lambda p: f+\".png\" in p, image_paths)) for f in filtered_files]"
   ]
  },
  {
   "cell_type": "code",
   "execution_count": 58,
   "metadata": {
    "collapsed": false
   },
   "outputs": [
    {
     "data": {
      "image/png": "[encoded data removed]",
      "text/plain": [
       "<matplotlib.figure.Figure at 0x114838b70>"
      ]
     },
     "metadata": {},
     "output_type": "display_data"
    }
   ],
   "source": [
    "# display 20 random emojis\n",
    "display_count = 20\n",
    "f, axarr = plt.subplots(2, display_count//2)\n",
    "for (i, f) in enumerate(random.sample(filtered_files, display_count)):\n",
    "    img=mpimg.imread(f)\n",
    "    a = axarr[0 + i//(display_count//2), i%(display_count//2)]\n",
    "    a.imshow(img)\n",
    "    a.axis(\"off\")"
   ]
  },
  {
   "cell_type": "code",
   "execution_count": null,
   "metadata": {
    "collapsed": true
   },
   "outputs": [],
   "source": []
  }
 ],
 "metadata": {
  "kernelspec": {
   "display_name": "Python 3",
   "language": "python",
   "name": "python3"
  },
  "language_info": {
   "codemirror_mode": {
    "name": "ipython",
    "version": 3
   },
   "file_extension": ".py",
   "mimetype": "text/x-python",
   "name": "python",
   "nbconvert_exporter": "python",
   "pygments_lexer": "ipython3",
   "version": "3.6.1"
  }
 },
 "nbformat": 4,
 "nbformat_minor": 2
}
